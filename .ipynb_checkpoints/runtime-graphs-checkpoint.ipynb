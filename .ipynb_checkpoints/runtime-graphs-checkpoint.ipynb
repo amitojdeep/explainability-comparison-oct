{
 "cells": [
  {
   "cell_type": "code",
   "execution_count": 1,
   "metadata": {},
   "outputs": [],
   "source": [
    "import os\n",
    "import numpy as np\n",
    "from matplotlib import pyplot as plt\n",
    "from mpl_toolkits.axes_grid1.inset_locator import zoomed_inset_axes, inset_axes, mark_inset"
   ]
  },
  {
   "cell_type": "code",
   "execution_count": 2,
   "metadata": {},
   "outputs": [],
   "source": [
    "#base = \"/../../../scratch/amitoj/OCT2017/attributions/\"\n",
    "base = \"../../hdd/Amitoj/OCT2017/attributions/\""
   ]
  },
  {
   "cell_type": "code",
   "execution_count": 3,
   "metadata": {},
   "outputs": [],
   "source": [
    "explainers = ['shap_select', 'shap_rand1', 'guided_backprop', 'deep_taylor', 'input_t_gradient', 'lrp.z', 'integrated_gradients',\n",
    "              'gradient', \"smoothgrad\", \"deconvnet\", 'deeplift2', 'saliency2', 'lrp.epsilon', 'occlusion5']"
   ]
  },
  {
   "cell_type": "code",
   "execution_count": 4,
   "metadata": {},
   "outputs": [
    {
     "name": "stdout",
     "output_type": "stream",
     "text": [
      "['deconvnet', 'deep_taylor', 'deeplift2', 'gradient', 'guided_backprop', 'input_t_gradient', 'integrated_gradients', 'lrp.epsilon', 'lrp.z', 'occlusion5', 'saliency2', 'shap_rand1', 'shap_select', 'smoothgrad']\n"
     ]
    }
   ],
   "source": [
    "explainers.sort()\n",
    "print(explainers)"
   ]
  },
  {
   "cell_type": "code",
   "execution_count": 5,
   "metadata": {},
   "outputs": [
    {
     "data": {
      "text/plain": [
       "14"
      ]
     },
     "execution_count": 5,
     "metadata": {},
     "output_type": "execute_result"
    }
   ],
   "source": [
    "len(explainers)"
   ]
  },
  {
   "cell_type": "code",
   "execution_count": 17,
   "metadata": {},
   "outputs": [
    {
     "data": {
      "text/plain": [
       "'cl_sums = [] #explainerwise list\\nfor exp in explainers:\\n    print(\"\\nExplainer: \" + str(exp))\\n    cl_sums_exp = [0, 0, 0, 0] # sums of all the classes for a given explainer for every pair of models\\n        # finding sum L2 norm of all the attributions from 10 models\\n    num = 10\\n    if(exp == \\'occlusion1\\'):\\n        num = 7\\n    for m1 in range(num): #choose the first model\\n        arr1 = np.load(base + exp + \"_model_\" + str(m1) + \".npy\")\\n        for m2 in range(m1+1, num): #choose the next\\n            arr2 = np.load(base + exp + \"_model_\" + str(m2) + \".npy\") \\n            for cl in range(4): # over classes\\n                cl_sums_exp[cl] += (np.sum(np.linalg.norm(arr2[cl] - arr1[cl], axis = (1,2))))/1000\\n    #print(round(cl_sums_exp[0] %cl_sums_exp[1] %cl_sums_exp[2] %cl_sums_exp[3] %np.sum(np.array(cl_sums_exp)))\\n    print(round(cl_sums_exp[0], 2), round(cl_sums_exp[1], 2), round(cl_sums_exp[2], 2), round(cl_sums_exp[3], 2), round(np.sum(np.array(cl_sums_exp)), 2))\\n    cl_sums.append(cl_sums_exp)\\nnp.save(\\'L2.npy\\',np.array(cl_sums))'"
      ]
     },
     "execution_count": 17,
     "metadata": {},
     "output_type": "execute_result"
    }
   ],
   "source": [
    "\"\"\"cl_sums = [] #explainerwise list\n",
    "for exp in explainers:\n",
    "    print(\"\\nExplainer: \" + str(exp))\n",
    "    cl_sums_exp = [0, 0, 0, 0] # sums of all the classes for a given explainer for every pair of models\n",
    "        # finding sum L2 norm of all the attributions from 10 models\n",
    "    num = 10\n",
    "    if(exp == 'occlusion1'):\n",
    "        num = 7\n",
    "    for m1 in range(num): #choose the first model\n",
    "        arr1 = np.load(base + exp + \"_model_\" + str(m1) + \".npy\")\n",
    "        for m2 in range(m1+1, num): #choose the next\n",
    "            arr2 = np.load(base + exp + \"_model_\" + str(m2) + \".npy\") \n",
    "            for cl in range(4): # over classes\n",
    "                cl_sums_exp[cl] += (np.sum(np.linalg.norm(arr2[cl] - arr1[cl], axis = (1,2))))/1000\n",
    "    #print(round(cl_sums_exp[0] %cl_sums_exp[1] %cl_sums_exp[2] %cl_sums_exp[3] %np.sum(np.array(cl_sums_exp)))\n",
    "    print(round(cl_sums_exp[0], 2), round(cl_sums_exp[1], 2), round(cl_sums_exp[2], 2), round(cl_sums_exp[3], 2), round(np.sum(np.array(cl_sums_exp)), 2))\n",
    "    cl_sums.append(cl_sums_exp)\n",
    "np.save('L2.npy',np.array(cl_sums))\"\"\""
   ]
  },
  {
   "cell_type": "code",
   "execution_count": 6,
   "metadata": {},
   "outputs": [],
   "source": [
    "l2_arr = np.load('L2.npy')"
   ]
  },
  {
   "cell_type": "code",
   "execution_count": 7,
   "metadata": {},
   "outputs": [
    {
     "data": {
      "text/plain": [
       "(14, 4)"
      ]
     },
     "execution_count": 7,
     "metadata": {},
     "output_type": "execute_result"
    }
   ],
   "source": [
    "l2_arr.shape"
   ]
  },
  {
   "cell_type": "code",
   "execution_count": 8,
   "metadata": {},
   "outputs": [
    {
     "data": {
      "text/plain": [
       "array([729.89493698, 163.8880887 ,  24.30838417, 832.15515125,\n",
       "       287.90990942, 552.71533249, 473.68063634, 552.23136499,\n",
       "       552.23202386, 686.15703485,  38.96749692,  34.14685528,\n",
       "        34.60341896, 733.51412112])"
      ]
     },
     "execution_count": 8,
     "metadata": {},
     "output_type": "execute_result"
    }
   ],
   "source": [
    "l2_sum = l2_arr.sum(axis=1)\n",
    "l2_sum"
   ]
  },
  {
   "cell_type": "code",
   "execution_count": 21,
   "metadata": {},
   "outputs": [],
   "source": [
    "\"\"\"times_arr = []\n",
    "for exp in explainers:\n",
    "    prev = 0\n",
    "    times = [] # 9 run times \n",
    "    for m in range(10): #over the 10 files\n",
    "        filename = base + exp + '_model_' + str(m) + '.npy'\n",
    "        #print(filename)\n",
    "        curr = os.stat(filename).st_ctime #time the file was created\n",
    "        if(not m==0):\n",
    "            times.append(curr-prev)\n",
    "        prev = curr\n",
    "    times_arr.append(times)\"\"\""
   ]
  },
  {
   "cell_type": "code",
   "execution_count": 10,
   "metadata": {},
   "outputs": [],
   "source": [
    "# from v10 when files were in order\n",
    "times_arr = [[165.0, 169.0, 180.0, 186.0, 198.0, 205.0, 214.0, 222.0, 223.0],\n",
    " [103.0, 107.0, 109.0, 112.0, 115.0, 117.0, 120.0, 124.0, 126.0],\n",
    " [109.0, 127.0, 145.0, 162.0, 179.0, 200.0, 222.0, 234.0, 259.0],\n",
    " [79.0, 87.0, 97.0, 102.0, 112.0, 120.0, 126.0, 197.0, 142.0],\n",
    " [84.0, 91.0, 102.0, 108.0, 117.0, 123.0, 134.0, 141.0, 149.0],\n",
    " [227.0, 233.0, 252.0, 245.0, 254.0, 262.0, 270.0, 276.0, 282.0],\n",
    " [591.0, 599.0, 607.0, 618.0, 628.0, 646.0, 649.0, 662.0, 669.0],\n",
    " [62.0, 65.0, 67.0, 70.0, 72.0, 76.0, 77.0, 81.0, 82.0],\n",
    " [147.0, 152.0, 152.0, 154.0, 157.0, 158.0, 161.0, 167.0, 166.0],\n",
    " [0 for i in range(9)],\n",
    " [124.0, 132.0, 134.0, 140.0, 150.0, 152.0, 160.0, 162.0, 168.0],\n",
    " [1714.0, 1640.0, 1495.0, 1492.0, 1485.0, 1501.0, 1503.0, 1516.0, 1538.0],\n",
    " [1218.0, 1171.0, 1167.0, 1096.0, 1094.0, 1111.0, 1118.0, 1123.0, 1129.0],\n",
    " [323.0, 337.0, 344.0, 355.0, 362.0, 379.0, 388.0, 395.0, 401.0]]"
   ]
  },
  {
   "cell_type": "code",
   "execution_count": 11,
   "metadata": {},
   "outputs": [
    {
     "data": {
      "text/plain": [
       "[[165.0, 169.0, 180.0, 186.0, 198.0, 205.0, 214.0, 222.0, 223.0],\n",
       " [103.0, 107.0, 109.0, 112.0, 115.0, 117.0, 120.0, 124.0, 126.0],\n",
       " [109.0, 127.0, 145.0, 162.0, 179.0, 200.0, 222.0, 234.0, 259.0],\n",
       " [79.0, 87.0, 97.0, 102.0, 112.0, 120.0, 126.0, 197.0, 142.0],\n",
       " [84.0, 91.0, 102.0, 108.0, 117.0, 123.0, 134.0, 141.0, 149.0],\n",
       " [227.0, 233.0, 252.0, 245.0, 254.0, 262.0, 270.0, 276.0, 282.0],\n",
       " [591.0, 599.0, 607.0, 618.0, 628.0, 646.0, 649.0, 662.0, 669.0],\n",
       " [62.0, 65.0, 67.0, 70.0, 72.0, 76.0, 77.0, 81.0, 82.0],\n",
       " [147.0, 152.0, 152.0, 154.0, 157.0, 158.0, 161.0, 167.0, 166.0],\n",
       " [0, 0, 0, 0, 0, 0, 0, 0, 0],\n",
       " [124.0, 132.0, 134.0, 140.0, 150.0, 152.0, 160.0, 162.0, 168.0],\n",
       " [1714.0, 1640.0, 1495.0, 1492.0, 1485.0, 1501.0, 1503.0, 1516.0, 1538.0],\n",
       " [1218.0, 1171.0, 1167.0, 1096.0, 1094.0, 1111.0, 1118.0, 1123.0, 1129.0],\n",
       " [323.0, 337.0, 344.0, 355.0, 362.0, 379.0, 388.0, 395.0, 401.0]]"
      ]
     },
     "execution_count": 11,
     "metadata": {},
     "output_type": "execute_result"
    }
   ],
   "source": [
    "times_arr"
   ]
  },
  {
   "cell_type": "code",
   "execution_count": 12,
   "metadata": {},
   "outputs": [],
   "source": [
    "time_arr = np.array(times_arr)"
   ]
  },
  {
   "cell_type": "code",
   "execution_count": 13,
   "metadata": {},
   "outputs": [
    {
     "data": {
      "text/plain": [
       "(14, 9)"
      ]
     },
     "execution_count": 13,
     "metadata": {},
     "output_type": "execute_result"
    }
   ],
   "source": [
    "time_arr.shape"
   ]
  },
  {
   "cell_type": "code",
   "execution_count": 14,
   "metadata": {},
   "outputs": [
    {
     "data": {
      "text/plain": [
       "array([ 195.77777778,  114.77777778,  181.88888889,  118.        ,\n",
       "        116.55555556,  255.66666667,  629.88888889,   72.44444444,\n",
       "        157.11111111,    0.        ,  146.88888889, 1542.66666667,\n",
       "       1136.33333333,  364.88888889])"
      ]
     },
     "execution_count": 14,
     "metadata": {},
     "output_type": "execute_result"
    }
   ],
   "source": [
    "avg_times = np.mean(time_arr, axis = 1)\n",
    "avg_times"
   ]
  },
  {
   "cell_type": "code",
   "execution_count": 15,
   "metadata": {},
   "outputs": [
    {
     "name": "stdout",
     "output_type": "stream",
     "text": [
      "[ 58.  23. 150. 118.  65.  55.  78.  20.  20.   0.  44. 229. 124.  78.]\n",
      "[ 223.  126.  259.  197.  149.  282.  669.   82.  167.    0.  168. 1714.\n",
      " 1218.  401.]\n",
      "[ 165.  103.  109.   79.   84.  227.  591.   62.  147.    0.  124. 1485.\n",
      " 1094.  323.]\n"
     ]
    }
   ],
   "source": [
    "max_times = np.max(time_arr, axis = 1)\n",
    "min_times = np.min(time_arr, axis = 1)\n",
    "err_times = max_times - min_times\n",
    "print(err_times)\n",
    "print(max_times)\n",
    "print(min_times)"
   ]
  },
  {
   "cell_type": "code",
   "execution_count": 21,
   "metadata": {},
   "outputs": [],
   "source": [
    "explainer_labels = ['DcNet', 'D. Taylor', 'DLift-Res', 'Grad', 'G. Backprop', 'I*Grad', 'IG', 'LRP.E', 'LRP.Z', 'Occ32', 'Saliency', 'SHAP-R', 'SHAP-S', 'SmoothGrad']"
   ]
  },
  {
   "cell_type": "code",
   "execution_count": 22,
   "metadata": {},
   "outputs": [
    {
     "data": {
      "text/plain": [
       "14"
      ]
     },
     "execution_count": 22,
     "metadata": {},
     "output_type": "execute_result"
    }
   ],
   "source": [
    "len(explainer_labels)"
   ]
  },
  {
   "cell_type": "code",
   "execution_count": 23,
   "metadata": {},
   "outputs": [],
   "source": [
    "mag_ind = np.array([2,10,11,12])"
   ]
  },
  {
   "cell_type": "code",
   "execution_count": 24,
   "metadata": {},
   "outputs": [],
   "source": [
    "mag_labels = ['DeepLift-Res', 'Saliency', 'SHAP-R', 'SHAP-S']"
   ]
  },
  {
   "cell_type": "code",
   "execution_count": 25,
   "metadata": {
    "scrolled": true
   },
   "outputs": [
    {
     "data": {
      "image/png": "[encoded data removed]",
      "text/plain": [
       "<Figure size 1008x504 with 3 Axes>"
      ]
     },
     "metadata": {
      "needs_background": "light"
     },
     "output_type": "display_data"
    }
   ],
   "source": [
    "f = plt.figure()\n",
    "\n",
    "ax1 = f.add_subplot(111)\n",
    "ax2 = ax1.twinx()\n",
    "\n",
    "width = 0.45\n",
    "\n",
    "r1 = [i - 0.5*width for i in range(len(explainer_labels))]\n",
    "r2 = [i + 0.5*width for i in range(len(explainer_labels))]\n",
    "r1_mag = [i - 0.5*width for i in range(len(mag_ind))]\n",
    "\n",
    "f.set_figheight(7)\n",
    "f.set_figwidth(14)\n",
    "\n",
    "ax1.set_xlabel(\"Methods\")\n",
    "ax1.set_ylabel(\"L2 norm ('000)\")\n",
    "ax1.set_xticks(np.arange(len(explainer_labels)))\n",
    "ax1.set_xticklabels(explainer_labels)\n",
    "#ax1.bar(r1, l2_sum,  width = width, color = 'tab:blue')\n",
    "ax1.bar(r1, l2_arr[:,0],  width = width, label = 'CNV')\n",
    "ax1.bar(r1, l2_arr[:,1], bottom = l2_arr[:,0], width = width, label = 'DME')\n",
    "ax1.bar(r1, l2_arr[:,2], bottom = l2_arr[:,0] + l2_arr[:,1], width = width, label = 'Drusen')\n",
    "ax1.bar(r1, l2_arr[:,3], bottom = l2_arr[:,0] + l2_arr[:,1] + l2_arr[:,2], width = width, label = 'Normal')\n",
    "#ax1.legend(loc = 0)\n",
    "\n",
    "ax2.set_ylabel(\"Runtime (ms)\")\n",
    "ax2.bar(r2, avg_times, yerr=err_times, width = width, alpha=0.5, ecolor='black', color = 'tab:purple', label = 'Runtime')\n",
    "lines1, labels1 = ax1.get_legend_handles_labels()\n",
    "lines2, labels2 = ax2.get_legend_handles_labels()\n",
    "ax2.legend(lines1 + lines2, labels1 + labels2, loc='upper center', bbox_to_anchor=(0.5, -0.10), shadow=True, ncol=5)\n",
    "#zooming into \n",
    "#axins = zoomed_inset_axes(ax1, 2.5, loc=9) # zoom-factor: 2.5\n",
    "axins = inset_axes(ax1, width='20%', height='30%', loc=9)\n",
    "\n",
    "#axins.yaxis.get_major_locator().set_params(nbins=1)\n",
    "#axins.xaxis.get_major_locator().set_params(nbins=1)\n",
    "axins.bar(r1_mag, l2_arr[mag_ind,0], align = 'center')\n",
    "axins.bar(r1_mag, l2_arr[mag_ind,1], bottom = l2_arr[mag_ind,0])\n",
    "axins.bar(r1_mag, l2_arr[mag_ind,2], bottom = l2_arr[mag_ind,0] + l2_arr[mag_ind,1])\n",
    "axins.bar(r1_mag, l2_arr[mag_ind,3], bottom = l2_arr[mag_ind,0] + l2_arr[mag_ind,1] + l2_arr[mag_ind,2])\n",
    "#axins.set_xlim(8.33,11.2)\n",
    "axins.set_xticks(np.arange(len(mag_labels)))\n",
    "axins.set_xticklabels(mag_labels)\n",
    "axins.set_ylim(0, l2_sum[10]+10)\n",
    "\n",
    "\"\"\"axins1 = inset_axes(ax1, width='12%', height='14%', loc='upper left')\n",
    "axins1.bar(r1, l2_arr[:,0])\n",
    "axins1.bar(r1, l2_arr[:,1], bottom = l2_arr[:,0])\n",
    "axins1.bar(r1, l2_arr[:,2], bottom = l2_arr[:,0] + l2_arr[:,1])\n",
    "axins1.bar(r1, l2_arr[:,3], bottom = l2_arr[:,0] + l2_arr[:,1] + l2_arr[:,2])\n",
    "axins1.set_xlim(1.33,3.2)\n",
    "axins1.set_ylim(0, l2_sum[3]+5)\"\"\"\n",
    "\n",
    "plt.setp(axins.get_xticklabels(), visible=False)\n",
    "#plt.setp(axins.get_yticklabels(), visible=False)\n",
    "#plt.setp(axins1.get_xticklabels(), visible=False)\n",
    "#plt.setp(axins1.get_yticklabels(), visible=False)\n",
    "\n",
    "#mark_inset(ax1, axins, loc1=3, loc2=1, fc=\"none\", ec=\"0.5\")\n",
    "#mark_inset(ax1, axins, loc1=3, loc2=1, fc=\"none\", ec=\"0.5\")\n",
    "\n",
    "#plt.savefig(\"runtime-l2-all.eps\", format = 'eps', bbox_inches = 'tight',pad_inches = 0)\n",
    "#plt.savefig(\"runtime-l2-all.png\", bbox_inches = 'tight',pad_inches = 0)\n",
    "plt.show()"
   ]
  },
  {
   "cell_type": "code",
   "execution_count": null,
   "metadata": {},
   "outputs": [],
   "source": []
  }
 ],
 "metadata": {
  "kernelspec": {
   "display_name": "Python 3",
   "language": "python",
   "name": "python3"
  },
  "language_info": {
   "codemirror_mode": {
    "name": "ipython",
    "version": 3
   },
   "file_extension": ".py",
   "mimetype": "text/x-python",
   "name": "python",
   "nbconvert_exporter": "python",
   "pygments_lexer": "ipython3",
   "version": "3.7.3"
  }
 },
 "nbformat": 4,
 "nbformat_minor": 2
}

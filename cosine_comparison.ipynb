{
 "cells": [
  {
   "cell_type": "code",
   "execution_count": 2,
   "metadata": {},
   "outputs": [],
   "source": [
    "import numpy as np\n",
    "import shap\n",
    "import matplotlib.pyplot as plt\n",
    "import cv2\n",
    "from os import listdir\n",
    "from os.path import isfile, join\n",
    "import matplotlib.pyplot as plt\n",
    "import matplotlib.image as mpimg\n",
    "from skimage.transform import resize\n",
    "from sklearn.metrics.pairwise import cosine_similarity"
   ]
  },
  {
   "cell_type": "code",
   "execution_count": 3,
   "metadata": {},
   "outputs": [],
   "source": [
    "x_test = np.load('annot_keras.npy')"
   ]
  },
  {
   "cell_type": "code",
   "execution_count": 4,
   "metadata": {},
   "outputs": [],
   "source": [
    "x_mask = np.load('masks_keras.npy')"
   ]
  },
  {
   "cell_type": "code",
   "execution_count": 8,
   "metadata": {},
   "outputs": [],
   "source": [
    "base = '../../hdd/Amitoj/OCT2017/annot10_inc_res_attr/'"
   ]
  },
  {
   "cell_type": "code",
   "execution_count": 9,
   "metadata": {},
   "outputs": [],
   "source": [
    "\"\"\"explainers = ['shap_select', 'shap_rand', 'guided_backprop', 'deep_taylor', 'input_t_gradient', 'lrp.z', 'integrated_gradients',\n",
    "              'gradient', \"smoothgrad\", \"deconvnet\", 'deeplift', 'saliency', 'occlusion', 'lrp.epsilon']\"\"\"\n",
    "explainers = [\"shap_rand\", 'guided_backprop', 'input_t_gradient', 'lrp.epsilon','deconvnet', 'saliency', 'intgrad', 'deeplift', 'occlusion']\n",
    "explainers.sort()"
   ]
  },
  {
   "cell_type": "code",
   "execution_count": 10,
   "metadata": {},
   "outputs": [],
   "source": [
    "mask_base = 'OCT-annotations/masks/'\n",
    "mask_dirs = [mask_base+'CNV', mask_base+'DME', mask_base+'DRUSEN']\n",
    "mask_files = []\n",
    "for mdir in mask_dirs:\n",
    "    mfiles = [mdir + '/' + f for f in listdir(mdir) if isfile(join(mdir, f))]\n",
    "    mfiles.sort()\n",
    "    mask_files.append(mfiles)"
   ]
  },
  {
   "cell_type": "code",
   "execution_count": 12,
   "metadata": {},
   "outputs": [],
   "source": [
    "atr_list = [] #array of all attributions -> can get massive for large dataset\n",
    "for exp in explainers:\n",
    "    atr_exp = []\n",
    "    for m in range(1): #over all the models\n",
    "        atr_exp.append(np.load(base + exp + '_model_' + str(m) + '.npy'))\n",
    "    atr_list.append(atr_exp)"
   ]
  },
  {
   "cell_type": "code",
   "execution_count": 13,
   "metadata": {},
   "outputs": [
    {
     "name": "stdout",
     "output_type": "stream",
     "text": [
      "0 deconvnet\n",
      "1 deeplift\n",
      "2 guided_backprop\n",
      "3 input_t_gradient\n",
      "4 intgrad\n",
      "5 lrp.epsilon\n",
      "6 occlusion\n",
      "7 saliency\n",
      "8 shap_rand\n"
     ]
    }
   ],
   "source": [
    "for e, exp in enumerate(explainers):\n",
    "    print(e, exp)"
   ]
  },
  {
   "cell_type": "code",
   "execution_count": 18,
   "metadata": {},
   "outputs": [
    {
     "name": "stdout",
     "output_type": "stream",
     "text": [
      "deconvnet 0.35027591619667586 0.325307249236621 0.2141949069555221 0.296592690796273\n",
      "deeplift 0.37013735838624606 0.25409316715928637 0.2763043759177885 0.30017830048777355\n",
      "guided_backprop 0.4297425722066732 0.3888872788031329 0.36974995082358925 0.39612660061113175\n",
      "input_t_gradient 0.37835117107713134 0.29489926330328753 0.27788140048580867 0.31704394495540916\n",
      "intgrad 0.2885895624931447 0.2449865321656096 0.3264012909901845 0.2866591285496463\n",
      "lrp.epsilon 0.36843603609341724 0.35200003060696033 0.2826665861945917 0.33436755096498977\n",
      "occlusion 0.6052065972458873 0.4170132285722434 0.3400990953473296 0.4541063070551534\n",
      "saliency 0.5817868008623351 0.418745885483523 0.36795569273026646 0.4561627930253748\n",
      "shap_rand 0.33219955241340604 0.3208347104345632 0.3095600974384515 0.3208647867621402\n"
     ]
    }
   ],
   "source": [
    "exp = 7\n",
    "m = 0\n",
    "for exp in range(len(explainers)):\n",
    "    atr = atr_list[exp][m]\n",
    "    cos_arr = []\n",
    "    for cat, masks in enumerate(mask_files):\n",
    "        cos_cat_arr = []\n",
    "        for num, mask in enumerate(masks):\n",
    "            marked = mpimg.imread(mask)\n",
    "            res = resize(marked[:,:,3], (299,299))\n",
    "            atr_curr = atr[cat][num:num+1]\n",
    "            #obj = shap.image_plot(atr_curr, np.array([marked]) , show = False)\n",
    "            #obj = shap.image_plot(atr_curr, n , show = False)\n",
    "            plt.show()\n",
    "            atr_flat = atr_curr.flatten()\n",
    "            atr_flat[atr_flat < 0] = 0\n",
    "            res_flat = res.flatten()\n",
    "            cos = cosine_similarity([atr_flat], [res_flat])\n",
    "            cos_cat_arr.append(cos)\n",
    "        cos_arr.append(cos_cat_arr)\n",
    "    print(explainers[exp], np.sum(cos_arr[0])/10, np.sum(cos_arr[1])/10, np.sum(cos_arr[2])/10, np.sum(np.array(cos_arr))/30)"
   ]
  },
  {
   "cell_type": "code",
   "execution_count": 13,
   "metadata": {},
   "outputs": [],
   "source": [
    "# find dice coeff and IOU for each class\n",
    "# take weighted average for overall performance as Drusen has very small area"
   ]
  },
  {
   "cell_type": "code",
   "execution_count": 14,
   "metadata": {},
   "outputs": [],
   "source": [
    "# do cosine similarity after resizing the attribution to image, clip negative points zero"
   ]
  },
  {
   "cell_type": "code",
   "execution_count": null,
   "metadata": {},
   "outputs": [],
   "source": []
  },
  {
   "cell_type": "code",
   "execution_count": null,
   "metadata": {},
   "outputs": [],
   "source": []
  }
 ],
 "metadata": {
  "kernelspec": {
   "display_name": "Python 3",
   "language": "python",
   "name": "python3"
  },
  "language_info": {
   "codemirror_mode": {
    "name": "ipython",
    "version": 3
   },
   "file_extension": ".py",
   "mimetype": "text/x-python",
   "name": "python",
   "nbconvert_exporter": "python",
   "pygments_lexer": "ipython3",
   "version": "3.7.3"
  }
 },
 "nbformat": 4,
 "nbformat_minor": 2
}
